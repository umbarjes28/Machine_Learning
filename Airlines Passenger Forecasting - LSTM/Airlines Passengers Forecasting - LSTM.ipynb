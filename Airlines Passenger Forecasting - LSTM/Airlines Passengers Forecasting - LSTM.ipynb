{
 "cells": [
  {
   "cell_type": "markdown",
   "metadata": {},
   "source": [
    "# Airlines Passenger Forecasting using Stacked LSTM"
   ]
  },
  {
   "cell_type": "markdown",
   "metadata": {},
   "source": [
    "This is a problem where, given a year and a month, the task is to predict the number of international airline passengers in units of 1,000. The data ranges from January 1949 to December 1960, or 12 years, with 144 observations."
   ]
  },
  {
   "cell_type": "code",
   "execution_count": 1,
   "metadata": {},
   "outputs": [],
   "source": [
    "import pandas as pd"
   ]
  },
  {
   "cell_type": "code",
   "execution_count": 2,
   "metadata": {},
   "outputs": [],
   "source": [
    "# kaggle dataset\n",
    "# https://www.kaggle.com/rakannimer/air-passengers?select=AirPassengers.csv\n",
    "df=pd.read_csv('AirPassengers.csv')"
   ]
  },
  {
   "cell_type": "code",
   "execution_count": 3,
   "metadata": {},
   "outputs": [
    {
     "data": {
      "text/html": [
       "<div>\n",
       "<style scoped>\n",
       "    .dataframe tbody tr th:only-of-type {\n",
       "        vertical-align: middle;\n",
       "    }\n",
       "\n",
       "    .dataframe tbody tr th {\n",
       "        vertical-align: top;\n",
       "    }\n",
       "\n",
       "    .dataframe thead th {\n",
       "        text-align: right;\n",
       "    }\n",
       "</style>\n",
       "<table border=\"1\" class=\"dataframe\">\n",
       "  <thead>\n",
       "    <tr style=\"text-align: right;\">\n",
       "      <th></th>\n",
       "      <th>Month</th>\n",
       "      <th>#Passengers</th>\n",
       "    </tr>\n",
       "  </thead>\n",
       "  <tbody>\n",
       "    <tr>\n",
       "      <th>0</th>\n",
       "      <td>1949-01</td>\n",
       "      <td>112</td>\n",
       "    </tr>\n",
       "    <tr>\n",
       "      <th>1</th>\n",
       "      <td>1949-02</td>\n",
       "      <td>118</td>\n",
       "    </tr>\n",
       "    <tr>\n",
       "      <th>2</th>\n",
       "      <td>1949-03</td>\n",
       "      <td>132</td>\n",
       "    </tr>\n",
       "    <tr>\n",
       "      <th>3</th>\n",
       "      <td>1949-04</td>\n",
       "      <td>129</td>\n",
       "    </tr>\n",
       "    <tr>\n",
       "      <th>4</th>\n",
       "      <td>1949-05</td>\n",
       "      <td>121</td>\n",
       "    </tr>\n",
       "  </tbody>\n",
       "</table>\n",
       "</div>"
      ],
      "text/plain": [
       "     Month  #Passengers\n",
       "0  1949-01          112\n",
       "1  1949-02          118\n",
       "2  1949-03          132\n",
       "3  1949-04          129\n",
       "4  1949-05          121"
      ]
     },
     "execution_count": 3,
     "metadata": {},
     "output_type": "execute_result"
    }
   ],
   "source": [
    "df.head()"
   ]
  },
  {
   "cell_type": "code",
   "execution_count": 4,
   "metadata": {},
   "outputs": [],
   "source": [
    "import matplotlib.pyplot as plt"
   ]
  },
  {
   "cell_type": "code",
   "execution_count": 5,
   "metadata": {},
   "outputs": [
    {
     "data": {
      "text/plain": [
       "[<matplotlib.lines.Line2D at 0x18fed602c88>]"
      ]
     },
     "execution_count": 5,
     "metadata": {},
     "output_type": "execute_result"
    },
    {
     "data": {
      "image/png": "[encoded data removed]",
      "text/plain": [
       "<Figure size 432x288 with 1 Axes>"
      ]
     },
     "metadata": {
      "needs_background": "light"
     },
     "output_type": "display_data"
    }
   ],
   "source": [
    "plt.plot(df.iloc[:,1])"
   ]
  },
  {
   "cell_type": "markdown",
   "metadata": {},
   "source": [
    "### Scaling"
   ]
  },
  {
   "cell_type": "markdown",
   "metadata": {},
   "source": [
    "LSTMs are sensitive to the scale of the input data, specifically when the sigmoid (default) or tanh activation functions are used. It can be a good practice to rescale the data to the range of 0-to-1, also called normalizing. We can easily normalize the dataset using the MinMaxScaler preprocessing class from the scikit-learn library."
   ]
  },
  {
   "cell_type": "code",
   "execution_count": 6,
   "metadata": {},
   "outputs": [],
   "source": [
    "from sklearn.preprocessing import MinMaxScaler "
   ]
  },
  {
   "cell_type": "code",
   "execution_count": 7,
   "metadata": {},
   "outputs": [],
   "source": [
    "scaler=MinMaxScaler(feature_range=(0,1))\n",
    "df=scaler.fit_transform(df.iloc[:,1:])"
   ]
  },
  {
   "cell_type": "code",
   "execution_count": 8,
   "metadata": {},
   "outputs": [
    {
     "data": {
      "text/plain": [
       "(144, 1)"
      ]
     },
     "execution_count": 8,
     "metadata": {},
     "output_type": "execute_result"
    }
   ],
   "source": [
    "df.shape"
   ]
  },
  {
   "cell_type": "code",
   "execution_count": 9,
   "metadata": {},
   "outputs": [
    {
     "data": {
      "text/plain": [
       "array([[0.01544402],\n",
       "       [0.02702703],\n",
       "       [0.05405405],\n",
       "       [0.04826255],\n",
       "       [0.03281853],\n",
       "       [0.05984556],\n",
       "       [0.08494208],\n",
       "       [0.08494208],\n",
       "       [0.06177606],\n",
       "       [0.02895753],\n",
       "       [0.        ],\n",
       "       [0.02702703],\n",
       "       [0.02123552],\n",
       "       [0.04247104],\n",
       "       [0.07142857],\n",
       "       [0.05984556],\n",
       "       [0.04054054],\n",
       "       [0.08687259],\n",
       "       [0.12741313],\n",
       "       [0.12741313],\n",
       "       [0.1042471 ],\n",
       "       [0.05598456],\n",
       "       [0.01930502],\n",
       "       [0.06949807],\n",
       "       [0.07915058],\n",
       "       [0.08880309],\n",
       "       [0.14285714],\n",
       "       [0.11389961],\n",
       "       [0.13127413],\n",
       "       [0.14285714],\n",
       "       [0.18339768],\n",
       "       [0.18339768],\n",
       "       [0.15444015],\n",
       "       [0.11196911],\n",
       "       [0.08108108],\n",
       "       [0.11969112],\n",
       "       [0.12934363],\n",
       "       [0.14671815],\n",
       "       [0.17181467],\n",
       "       [0.14864865],\n",
       "       [0.15250965],\n",
       "       [0.22007722],\n",
       "       [0.24324324],\n",
       "       [0.26640927],\n",
       "       [0.2027027 ],\n",
       "       [0.16795367],\n",
       "       [0.13127413],\n",
       "       [0.17374517],\n",
       "       [0.17760618],\n",
       "       [0.17760618],\n",
       "       [0.25482625],\n",
       "       [0.25289575],\n",
       "       [0.24131274],\n",
       "       [0.26833977],\n",
       "       [0.30888031],\n",
       "       [0.32432432],\n",
       "       [0.25675676],\n",
       "       [0.20656371],\n",
       "       [0.14671815],\n",
       "       [0.18725869],\n",
       "       [0.19305019],\n",
       "       [0.16216216],\n",
       "       [0.25289575],\n",
       "       [0.23745174],\n",
       "       [0.25096525],\n",
       "       [0.30888031],\n",
       "       [0.38223938],\n",
       "       [0.36486486],\n",
       "       [0.2992278 ],\n",
       "       [0.24131274],\n",
       "       [0.19111969],\n",
       "       [0.24131274],\n",
       "       [0.26640927],\n",
       "       [0.24903475],\n",
       "       [0.31467181],\n",
       "       [0.31853282],\n",
       "       [0.32046332],\n",
       "       [0.40733591],\n",
       "       [0.5019305 ],\n",
       "       [0.46911197],\n",
       "       [0.4015444 ],\n",
       "       [0.32818533],\n",
       "       [0.25675676],\n",
       "       [0.33590734],\n",
       "       [0.34749035],\n",
       "       [0.33397683],\n",
       "       [0.41119691],\n",
       "       [0.4034749 ],\n",
       "       [0.41312741],\n",
       "       [0.52123552],\n",
       "       [0.5965251 ],\n",
       "       [0.58108108],\n",
       "       [0.48455598],\n",
       "       [0.38996139],\n",
       "       [0.32239382],\n",
       "       [0.38996139],\n",
       "       [0.40733591],\n",
       "       [0.38030888],\n",
       "       [0.48648649],\n",
       "       [0.47104247],\n",
       "       [0.48455598],\n",
       "       [0.61389961],\n",
       "       [0.6969112 ],\n",
       "       [0.7007722 ],\n",
       "       [0.57915058],\n",
       "       [0.46911197],\n",
       "       [0.38803089],\n",
       "       [0.44787645],\n",
       "       [0.45559846],\n",
       "       [0.41312741],\n",
       "       [0.4980695 ],\n",
       "       [0.47104247],\n",
       "       [0.5       ],\n",
       "       [0.63899614],\n",
       "       [0.74710425],\n",
       "       [0.77413127],\n",
       "       [0.57915058],\n",
       "       [0.49227799],\n",
       "       [0.3976834 ],\n",
       "       [0.44980695],\n",
       "       [0.49420849],\n",
       "       [0.45945946],\n",
       "       [0.58301158],\n",
       "       [0.56370656],\n",
       "       [0.61003861],\n",
       "       [0.71042471],\n",
       "       [0.85714286],\n",
       "       [0.87837838],\n",
       "       [0.69305019],\n",
       "       [0.58494208],\n",
       "       [0.4980695 ],\n",
       "       [0.58108108],\n",
       "       [0.6042471 ],\n",
       "       [0.55405405],\n",
       "       [0.60810811],\n",
       "       [0.68918919],\n",
       "       [0.71042471],\n",
       "       [0.83204633],\n",
       "       [1.        ],\n",
       "       [0.96911197],\n",
       "       [0.77992278],\n",
       "       [0.68918919],\n",
       "       [0.55212355],\n",
       "       [0.63320463]])"
      ]
     },
     "execution_count": 9,
     "metadata": {},
     "output_type": "execute_result"
    }
   ],
   "source": [
    "df"
   ]
  },
  {
   "cell_type": "code",
   "execution_count": 10,
   "metadata": {},
   "outputs": [],
   "source": [
    "# Spliting dataset into train and test split\n",
    "training_size=int(len(df)*0.65)"
   ]
  },
  {
   "cell_type": "code",
   "execution_count": 11,
   "metadata": {},
   "outputs": [],
   "source": [
    "test_size=len(df)-training_size"
   ]
  },
  {
   "cell_type": "code",
   "execution_count": 12,
   "metadata": {},
   "outputs": [],
   "source": [
    "train_data,test_data=df[0:training_size,:],df[training_size:len(df),:1]"
   ]
  },
  {
   "cell_type": "code",
   "execution_count": 13,
   "metadata": {},
   "outputs": [
    {
     "data": {
      "text/plain": [
       "array([[0.38996139],\n",
       "       [0.32239382],\n",
       "       [0.38996139],\n",
       "       [0.40733591],\n",
       "       [0.38030888],\n",
       "       [0.48648649],\n",
       "       [0.47104247],\n",
       "       [0.48455598],\n",
       "       [0.61389961],\n",
       "       [0.6969112 ],\n",
       "       [0.7007722 ],\n",
       "       [0.57915058],\n",
       "       [0.46911197],\n",
       "       [0.38803089],\n",
       "       [0.44787645],\n",
       "       [0.45559846],\n",
       "       [0.41312741],\n",
       "       [0.4980695 ],\n",
       "       [0.47104247],\n",
       "       [0.5       ],\n",
       "       [0.63899614],\n",
       "       [0.74710425],\n",
       "       [0.77413127],\n",
       "       [0.57915058],\n",
       "       [0.49227799],\n",
       "       [0.3976834 ],\n",
       "       [0.44980695],\n",
       "       [0.49420849],\n",
       "       [0.45945946],\n",
       "       [0.58301158],\n",
       "       [0.56370656],\n",
       "       [0.61003861],\n",
       "       [0.71042471],\n",
       "       [0.85714286],\n",
       "       [0.87837838],\n",
       "       [0.69305019],\n",
       "       [0.58494208],\n",
       "       [0.4980695 ],\n",
       "       [0.58108108],\n",
       "       [0.6042471 ],\n",
       "       [0.55405405],\n",
       "       [0.60810811],\n",
       "       [0.68918919],\n",
       "       [0.71042471],\n",
       "       [0.83204633],\n",
       "       [1.        ],\n",
       "       [0.96911197],\n",
       "       [0.77992278],\n",
       "       [0.68918919],\n",
       "       [0.55212355],\n",
       "       [0.63320463]])"
      ]
     },
     "execution_count": 13,
     "metadata": {},
     "output_type": "execute_result"
    }
   ],
   "source": [
    "test_data"
   ]
  },
  {
   "cell_type": "code",
   "execution_count": 14,
   "metadata": {},
   "outputs": [],
   "source": [
    "import numpy as np\n",
    "# Convert an array of values into a dataset matrix\n",
    "def create_dataset(dataset, time_step=1):\n",
    "    dataX, dataY=[],[]\n",
    "    for i in range(len(dataset)-time_step-1):\n",
    "        a=dataset[i:(i+time_step),0] # i=0, 0,1,2,3\n",
    "        dataX.append(a)\n",
    "        dataY.append(dataset[i + time_step, 0])\n",
    "    return np.array(dataX), np.array(dataY)"
   ]
  },
  {
   "cell_type": "code",
   "execution_count": 15,
   "metadata": {},
   "outputs": [],
   "source": [
    "# Reshape into x=t, t+1, t+2, t+3 and Y=t+4\n",
    "time_step=4\n",
    "X_train, y_train=create_dataset(train_data, time_step)\n",
    "X_test, y_test=create_dataset(test_data, time_step)"
   ]
  },
  {
   "cell_type": "code",
   "execution_count": 16,
   "metadata": {},
   "outputs": [
    {
     "data": {
      "text/plain": [
       "((88, 4), (88,))"
      ]
     },
     "execution_count": 16,
     "metadata": {},
     "output_type": "execute_result"
    }
   ],
   "source": [
    "X_train.shape, y_train.shape"
   ]
  },
  {
   "cell_type": "code",
   "execution_count": 17,
   "metadata": {},
   "outputs": [],
   "source": [
    "# reshape input to be [samples, time steps, features] which is required for LSTM\n",
    "X_train =X_train.reshape(X_train.shape[0], 4, 1)\n",
    "X_test = X_test.reshape(X_test.shape[0], 4, 1)"
   ]
  },
  {
   "cell_type": "code",
   "execution_count": 18,
   "metadata": {},
   "outputs": [],
   "source": [
    "# Create the LSTM model\n",
    "from tensorflow.keras.models import Sequential\n",
    "from tensorflow.keras.layers import Dense\n",
    "from tensorflow.keras.layers import LSTM"
   ]
  },
  {
   "cell_type": "code",
   "execution_count": 19,
   "metadata": {},
   "outputs": [
    {
     "name": "stdout",
     "output_type": "stream",
     "text": [
      "Epoch 1/100\n",
      "88/88 [==============================] - 3s 34ms/step - loss: 0.0130 - val_loss: 0.0263\n",
      "Epoch 2/100\n",
      "88/88 [==============================] - 1s 10ms/step - loss: 0.0077 - val_loss: 0.0333\n",
      "Epoch 3/100\n",
      "88/88 [==============================] - 1s 10ms/step - loss: 0.0061 - val_loss: 0.0291\n",
      "Epoch 4/100\n",
      "88/88 [==============================] - 1s 9ms/step - loss: 0.0065 - val_loss: 0.0315\n",
      "Epoch 5/100\n",
      "88/88 [==============================] - 1s 9ms/step - loss: 0.0050 - val_loss: 0.0368\n",
      "Epoch 6/100\n",
      "88/88 [==============================] - 1s 10ms/step - loss: 0.0067 - val_loss: 0.0253\n",
      "Epoch 7/100\n",
      "88/88 [==============================] - 1s 10ms/step - loss: 0.0056 - val_loss: 0.0425\n",
      "Epoch 8/100\n",
      "88/88 [==============================] - 1s 10ms/step - loss: 0.0053 - val_loss: 0.0241\n",
      "Epoch 9/100\n",
      "88/88 [==============================] - 1s 10ms/step - loss: 0.0052 - val_loss: 0.0237\n",
      "Epoch 10/100\n",
      "88/88 [==============================] - 1s 10ms/step - loss: 0.0057 - val_loss: 0.0221\n",
      "Epoch 11/100\n",
      "88/88 [==============================] - 1s 9ms/step - loss: 0.0049 - val_loss: 0.0204\n",
      "Epoch 12/100\n",
      "88/88 [==============================] - 1s 10ms/step - loss: 0.0052 - val_loss: 0.0210\n",
      "Epoch 13/100\n",
      "88/88 [==============================] - 1s 10ms/step - loss: 0.0039 - val_loss: 0.0194\n",
      "Epoch 14/100\n",
      "88/88 [==============================] - 1s 10ms/step - loss: 0.0046 - val_loss: 0.0300\n",
      "Epoch 15/100\n",
      "88/88 [==============================] - 1s 10ms/step - loss: 0.0044 - val_loss: 0.0166\n",
      "Epoch 16/100\n",
      "88/88 [==============================] - 1s 10ms/step - loss: 0.0038 - val_loss: 0.0170\n",
      "Epoch 17/100\n",
      "88/88 [==============================] - 1s 9ms/step - loss: 0.0041 - val_loss: 0.0239\n",
      "Epoch 18/100\n",
      "88/88 [==============================] - 1s 9ms/step - loss: 0.0034 - val_loss: 0.0120\n",
      "Epoch 19/100\n",
      "88/88 [==============================] - 1s 10ms/step - loss: 0.0031 - val_loss: 0.0109\n",
      "Epoch 20/100\n",
      "88/88 [==============================] - 1s 10ms/step - loss: 0.0036 - val_loss: 0.0151\n",
      "Epoch 21/100\n",
      "88/88 [==============================] - 1s 10ms/step - loss: 0.0031 - val_loss: 0.0142\n",
      "Epoch 22/100\n",
      "88/88 [==============================] - 1s 10ms/step - loss: 0.0028 - val_loss: 0.0092\n",
      "Epoch 23/100\n",
      "88/88 [==============================] - 1s 11ms/step - loss: 0.0023 - val_loss: 0.0071\n",
      "Epoch 24/100\n",
      "88/88 [==============================] - 1s 10ms/step - loss: 0.0022 - val_loss: 0.0070\n",
      "Epoch 25/100\n",
      "88/88 [==============================] - 1s 10ms/step - loss: 0.0023 - val_loss: 0.0108\n",
      "Epoch 26/100\n",
      "88/88 [==============================] - 1s 10ms/step - loss: 0.0021 - val_loss: 0.0086\n",
      "Epoch 27/100\n",
      "88/88 [==============================] - 1s 10ms/step - loss: 0.0021 - val_loss: 0.0087\n",
      "Epoch 28/100\n",
      "88/88 [==============================] - 1s 10ms/step - loss: 0.0018 - val_loss: 0.0088\n",
      "Epoch 29/100\n",
      "88/88 [==============================] - 1s 11ms/step - loss: 0.0021 - val_loss: 0.0219\n",
      "Epoch 30/100\n",
      "88/88 [==============================] - 1s 10ms/step - loss: 0.0024 - val_loss: 0.0113\n",
      "Epoch 31/100\n",
      "88/88 [==============================] - 1s 10ms/step - loss: 0.0018 - val_loss: 0.0097\n",
      "Epoch 32/100\n",
      "88/88 [==============================] - 1s 10ms/step - loss: 0.0018 - val_loss: 0.0092\n",
      "Epoch 33/100\n",
      "88/88 [==============================] - 1s 10ms/step - loss: 0.0020 - val_loss: 0.0115\n",
      "Epoch 34/100\n",
      "88/88 [==============================] - 1s 10ms/step - loss: 0.0018 - val_loss: 0.0087\n",
      "Epoch 35/100\n",
      "88/88 [==============================] - 1s 10ms/step - loss: 0.0019 - val_loss: 0.0120\n",
      "Epoch 36/100\n",
      "88/88 [==============================] - 1s 9ms/step - loss: 0.0021 - val_loss: 0.0081\n",
      "Epoch 37/100\n",
      "88/88 [==============================] - 1s 9ms/step - loss: 0.0022 - val_loss: 0.0139\n",
      "Epoch 38/100\n",
      "88/88 [==============================] - 1s 10ms/step - loss: 0.0019 - val_loss: 0.0099\n",
      "Epoch 39/100\n",
      "88/88 [==============================] - 1s 10ms/step - loss: 0.0018 - val_loss: 0.0094\n",
      "Epoch 40/100\n",
      "88/88 [==============================] - 1s 10ms/step - loss: 0.0021 - val_loss: 0.0119\n",
      "Epoch 41/100\n",
      "88/88 [==============================] - 1s 10ms/step - loss: 0.0019 - val_loss: 0.0102\n",
      "Epoch 42/100\n",
      "88/88 [==============================] - 1s 9ms/step - loss: 0.0020 - val_loss: 0.0098\n",
      "Epoch 43/100\n",
      "88/88 [==============================] - 1s 9ms/step - loss: 0.0019 - val_loss: 0.0103\n",
      "Epoch 44/100\n",
      "88/88 [==============================] - 1s 9ms/step - loss: 0.0019 - val_loss: 0.0091\n",
      "Epoch 45/100\n",
      "88/88 [==============================] - 1s 9ms/step - loss: 0.0019 - val_loss: 0.0086\n",
      "Epoch 46/100\n",
      "88/88 [==============================] - 1s 10ms/step - loss: 0.0019 - val_loss: 0.0107\n",
      "Epoch 47/100\n",
      "88/88 [==============================] - 1s 10ms/step - loss: 0.0018 - val_loss: 0.0094\n",
      "Epoch 48/100\n",
      "88/88 [==============================] - 1s 11ms/step - loss: 0.0018 - val_loss: 0.0096\n",
      "Epoch 49/100\n",
      "88/88 [==============================] - 1s 10ms/step - loss: 0.0018 - val_loss: 0.0113\n",
      "Epoch 50/100\n",
      "88/88 [==============================] - 1s 10ms/step - loss: 0.0022 - val_loss: 0.0109\n",
      "Epoch 51/100\n",
      "88/88 [==============================] - 1s 10ms/step - loss: 0.0021 - val_loss: 0.0135\n",
      "Epoch 52/100\n",
      "88/88 [==============================] - 1s 10ms/step - loss: 0.0017 - val_loss: 0.0158\n",
      "Epoch 53/100\n",
      "88/88 [==============================] - 1s 10ms/step - loss: 0.0024 - val_loss: 0.0121\n",
      "Epoch 54/100\n",
      "88/88 [==============================] - 1s 10ms/step - loss: 0.0018 - val_loss: 0.0097\n",
      "Epoch 55/100\n",
      "88/88 [==============================] - 1s 10ms/step - loss: 0.0023 - val_loss: 0.0155\n",
      "Epoch 56/100\n",
      "88/88 [==============================] - 1s 10ms/step - loss: 0.0019 - val_loss: 0.0079\n",
      "Epoch 57/100\n",
      "88/88 [==============================] - 1s 10ms/step - loss: 0.0018 - val_loss: 0.0094\n",
      "Epoch 58/100\n",
      "88/88 [==============================] - 1s 10ms/step - loss: 0.0018 - val_loss: 0.0094\n",
      "Epoch 59/100\n",
      "88/88 [==============================] - 1s 10ms/step - loss: 0.0018 - val_loss: 0.0117\n",
      "Epoch 60/100\n",
      "88/88 [==============================] - 1s 10ms/step - loss: 0.0017 - val_loss: 0.0076\n",
      "Epoch 61/100\n",
      "88/88 [==============================] - 1s 9ms/step - loss: 0.0018 - val_loss: 0.0075\n",
      "Epoch 62/100\n",
      "88/88 [==============================] - 1s 10ms/step - loss: 0.0017 - val_loss: 0.0076\n",
      "Epoch 63/100\n",
      "88/88 [==============================] - 1s 8ms/step - loss: 0.0020 - val_loss: 0.0087\n",
      "Epoch 64/100\n",
      "88/88 [==============================] - 1s 8ms/step - loss: 0.0021 - val_loss: 0.0081\n",
      "Epoch 65/100\n",
      "88/88 [==============================] - 1s 10ms/step - loss: 0.0018 - val_loss: 0.0083\n",
      "Epoch 66/100\n",
      "88/88 [==============================] - 1s 9ms/step - loss: 0.0018 - val_loss: 0.0101\n",
      "Epoch 67/100\n",
      "88/88 [==============================] - 1s 9ms/step - loss: 0.0020 - val_loss: 0.0079\n",
      "Epoch 68/100\n",
      "88/88 [==============================] - 1s 9ms/step - loss: 0.0018 - val_loss: 0.0107\n",
      "Epoch 69/100\n",
      "88/88 [==============================] - 1s 10ms/step - loss: 0.0020 - val_loss: 0.0130\n",
      "Epoch 70/100\n",
      "88/88 [==============================] - 1s 10ms/step - loss: 0.0019 - val_loss: 0.0118\n",
      "Epoch 71/100\n",
      "88/88 [==============================] - 1s 10ms/step - loss: 0.0020 - val_loss: 0.0245\n",
      "Epoch 72/100\n",
      "88/88 [==============================] - 1s 10ms/step - loss: 0.0019 - val_loss: 0.0083\n",
      "Epoch 73/100\n",
      "88/88 [==============================] - 1s 10ms/step - loss: 0.0020 - val_loss: 0.0071\n",
      "Epoch 74/100\n",
      "88/88 [==============================] - 1s 10ms/step - loss: 0.0018 - val_loss: 0.0092\n",
      "Epoch 75/100\n",
      "88/88 [==============================] - 1s 10ms/step - loss: 0.0019 - val_loss: 0.0090\n",
      "Epoch 76/100\n",
      "88/88 [==============================] - 1s 9ms/step - loss: 0.0019 - val_loss: 0.0087\n",
      "Epoch 77/100\n",
      "88/88 [==============================] - 1s 9ms/step - loss: 0.0018 - val_loss: 0.0074\n",
      "Epoch 78/100\n",
      "88/88 [==============================] - 1s 10ms/step - loss: 0.0018 - val_loss: 0.0185\n",
      "Epoch 79/100\n",
      "88/88 [==============================] - 1s 9ms/step - loss: 0.0019 - val_loss: 0.0138\n",
      "Epoch 80/100\n",
      "88/88 [==============================] - 1s 10ms/step - loss: 0.0019 - val_loss: 0.0183\n",
      "Epoch 81/100\n",
      "88/88 [==============================] - 1s 10ms/step - loss: 0.0019 - val_loss: 0.0130\n",
      "Epoch 82/100\n",
      "88/88 [==============================] - 1s 10ms/step - loss: 0.0018 - val_loss: 0.0120\n",
      "Epoch 83/100\n",
      "88/88 [==============================] - 1s 10ms/step - loss: 0.0018 - val_loss: 0.0107\n",
      "Epoch 84/100\n",
      "88/88 [==============================] - 1s 9ms/step - loss: 0.0020 - val_loss: 0.0157\n",
      "Epoch 85/100\n",
      "88/88 [==============================] - 1s 10ms/step - loss: 0.0017 - val_loss: 0.0074\n",
      "Epoch 86/100\n",
      "88/88 [==============================] - 1s 9ms/step - loss: 0.0020 - val_loss: 0.0090\n",
      "Epoch 87/100\n",
      "88/88 [==============================] - 1s 10ms/step - loss: 0.0019 - val_loss: 0.0121\n",
      "Epoch 88/100\n",
      "88/88 [==============================] - 1s 10ms/step - loss: 0.0017 - val_loss: 0.0197\n",
      "Epoch 89/100\n",
      "88/88 [==============================] - 1s 10ms/step - loss: 0.0018 - val_loss: 0.0174\n",
      "Epoch 90/100\n",
      "88/88 [==============================] - 1s 10ms/step - loss: 0.0020 - val_loss: 0.0106\n",
      "Epoch 91/100\n",
      "88/88 [==============================] - 1s 9ms/step - loss: 0.0020 - val_loss: 0.0093\n",
      "Epoch 92/100\n",
      "88/88 [==============================] - 1s 10ms/step - loss: 0.0017 - val_loss: 0.0136\n",
      "Epoch 93/100\n",
      "88/88 [==============================] - 1s 10ms/step - loss: 0.0019 - val_loss: 0.0100\n",
      "Epoch 94/100\n",
      "88/88 [==============================] - 1s 10ms/step - loss: 0.0018 - val_loss: 0.0079\n",
      "Epoch 95/100\n",
      "88/88 [==============================] - 1s 10ms/step - loss: 0.0020 - val_loss: 0.0137\n",
      "Epoch 96/100\n",
      "88/88 [==============================] - 1s 10ms/step - loss: 0.0020 - val_loss: 0.0160\n",
      "Epoch 97/100\n",
      "88/88 [==============================] - 1s 10ms/step - loss: 0.0020 - val_loss: 0.0084\n",
      "Epoch 98/100\n",
      "88/88 [==============================] - 1s 10ms/step - loss: 0.0024 - val_loss: 0.0117\n",
      "Epoch 99/100\n",
      "88/88 [==============================] - 1s 10ms/step - loss: 0.0018 - val_loss: 0.0070\n",
      "Epoch 100/100\n",
      "88/88 [==============================] - 1s 10ms/step - loss: 0.0018 - val_loss: 0.0102\n"
     ]
    },
    {
     "data": {
      "text/plain": [
       "<tensorflow.python.keras.callbacks.History at 0x18ff45e6c48>"
      ]
     },
     "execution_count": 19,
     "metadata": {},
     "output_type": "execute_result"
    }
   ],
   "source": [
    "model=Sequential()\n",
    "model.add(LSTM(50,return_sequences=True,input_shape=(4,1)))\n",
    "model.add(LSTM(50))\n",
    "model.add(Dense(1))\n",
    "model.compile(loss='mean_squared_error',optimizer='adam')\n",
    "model.fit(X_train,y_train,validation_data=(X_test,y_test),epochs=100,batch_size=1,verbose=1)"
   ]
  },
  {
   "cell_type": "code",
   "execution_count": 20,
   "metadata": {},
   "outputs": [],
   "source": [
    "### Lets Do the prediction and check performance metrics\n",
    "train_predict=model.predict(X_train)\n",
    "test_predict=model.predict(X_test)"
   ]
  },
  {
   "cell_type": "code",
   "execution_count": 21,
   "metadata": {},
   "outputs": [],
   "source": [
    "##Transformback to original form\n",
    "train_predict=scaler.inverse_transform(train_predict)\n",
    "test_predict=scaler.inverse_transform(test_predict)"
   ]
  },
  {
   "cell_type": "code",
   "execution_count": 22,
   "metadata": {},
   "outputs": [
    {
     "data": {
      "text/plain": [
       "array([[306.1597 ],\n",
       "       [291.08823],\n",
       "       [381.1472 ],\n",
       "       [317.5278 ],\n",
       "       [358.64673],\n",
       "       [448.39713],\n",
       "       [444.52298],\n",
       "       [429.54523],\n",
       "       [330.78598],\n",
       "       [314.02774],\n",
       "       [278.98843],\n",
       "       [351.2962 ],\n",
       "       [322.8276 ],\n",
       "       [302.39343],\n",
       "       [384.5168 ],\n",
       "       [313.9956 ],\n",
       "       [371.8066 ],\n",
       "       [460.8816 ],\n",
       "       [476.06384],\n",
       "       [463.0271 ],\n",
       "       [285.45703],\n",
       "       [353.30374],\n",
       "       [263.3146 ],\n",
       "       [353.04694],\n",
       "       [352.13287],\n",
       "       [318.54037],\n",
       "       [442.4864 ],\n",
       "       [341.82947],\n",
       "       [435.35593],\n",
       "       [470.1116 ],\n",
       "       [548.7061 ],\n",
       "       [462.38843],\n",
       "       [328.1827 ],\n",
       "       [369.06088],\n",
       "       [291.39545],\n",
       "       [421.6158 ],\n",
       "       [375.97296],\n",
       "       [355.83606],\n",
       "       [431.97345],\n",
       "       [445.22922],\n",
       "       [429.01004],\n",
       "       [554.4599 ],\n",
       "       [586.5026 ],\n",
       "       [424.55524],\n",
       "       [366.87433],\n",
       "       [379.24652]], dtype=float32)"
      ]
     },
     "execution_count": 22,
     "metadata": {},
     "output_type": "execute_result"
    }
   ],
   "source": [
    "test_predict"
   ]
  },
  {
   "cell_type": "code",
   "execution_count": 23,
   "metadata": {},
   "outputs": [
    {
     "data": {
      "text/plain": [
       "((88,),\n",
       " (88, 1),\n",
       " array([[131.98276],\n",
       "        [126.0606 ],\n",
       "        [138.42075],\n",
       "        [149.69438],\n",
       "        [150.02042],\n",
       "        [140.35753],\n",
       "        [126.1704 ],\n",
       "        [112.86043],\n",
       "        [122.53683],\n",
       "        [119.23841],\n",
       "        [128.58711],\n",
       "        [142.46631],\n",
       "        [137.76163],\n",
       "        [130.28464],\n",
       "        [151.82825],\n",
       "        [170.55249],\n",
       "        [170.39369],\n",
       "        [160.894  ],\n",
       "        [139.29395],\n",
       "        [123.1426 ],\n",
       "        [143.92763],\n",
       "        [146.7108 ],\n",
       "        [151.9942 ],\n",
       "        [179.80162],\n",
       "        [163.39362],\n",
       "        [175.8054 ],\n",
       "        [180.71027],\n",
       "        [201.73546],\n",
       "        [199.02084],\n",
       "        [185.13838],\n",
       "        [166.13713],\n",
       "        [152.6141 ],\n",
       "        [171.0859 ],\n",
       "        [172.77776],\n",
       "        [182.00826],\n",
       "        [195.21967],\n",
       "        [181.56859],\n",
       "        [186.87703],\n",
       "        [223.28546],\n",
       "        [229.28185],\n",
       "        [243.33731],\n",
       "        [202.98862],\n",
       "        [195.339  ],\n",
       "        [176.52696],\n",
       "        [200.28773],\n",
       "        [196.87321],\n",
       "        [197.7524 ],\n",
       "        [242.79688],\n",
       "        [230.96935],\n",
       "        [228.9498 ],\n",
       "        [247.8062 ],\n",
       "        [267.5834 ],\n",
       "        [270.58444],\n",
       "        [226.69458],\n",
       "        [212.86269],\n",
       "        [182.81203],\n",
       "        [209.24538],\n",
       "        [205.07407],\n",
       "        [188.42802],\n",
       "        [244.12125],\n",
       "        [221.48409],\n",
       "        [237.12085],\n",
       "        [270.6678 ],\n",
       "        [308.2729 ],\n",
       "        [280.21188],\n",
       "        [249.49266],\n",
       "        [227.5913 ],\n",
       "        [204.65848],\n",
       "        [238.4805 ],\n",
       "        [242.7501 ],\n",
       "        [230.24623],\n",
       "        [276.8038 ],\n",
       "        [263.71353],\n",
       "        [269.82047],\n",
       "        [329.4097 ],\n",
       "        [371.9173 ],\n",
       "        [317.6016 ],\n",
       "        [298.0458 ],\n",
       "        [261.95428],\n",
       "        [231.46747],\n",
       "        [295.38037],\n",
       "        [277.30045],\n",
       "        [273.09866],\n",
       "        [331.63077],\n",
       "        [297.66165],\n",
       "        [319.30545],\n",
       "        [394.8947 ],\n",
       "        [405.9565 ]], dtype=float32))"
      ]
     },
     "execution_count": 23,
     "metadata": {},
     "output_type": "execute_result"
    }
   ],
   "source": [
    "y_train.shape,train_predict.shape,train_predict"
   ]
  },
  {
   "cell_type": "code",
   "execution_count": 24,
   "metadata": {},
   "outputs": [
    {
     "data": {
      "text/plain": [
       "221.52364520501484"
      ]
     },
     "execution_count": 24,
     "metadata": {},
     "output_type": "execute_result"
    }
   ],
   "source": [
    "# Calculate RMSE performance metrics\n",
    "import math\n",
    "from sklearn.metrics import mean_squared_error\n",
    "math.sqrt(mean_squared_error(y_train,train_predict))"
   ]
  },
  {
   "cell_type": "code",
   "execution_count": 25,
   "metadata": {},
   "outputs": [
    {
     "data": {
      "text/plain": [
       "392.16761657579264"
      ]
     },
     "execution_count": 25,
     "metadata": {},
     "output_type": "execute_result"
    }
   ],
   "source": [
    "# Test Data RMSE\n",
    "math.sqrt(mean_squared_error(y_test,test_predict))"
   ]
  },
  {
   "cell_type": "code",
   "execution_count": 27,
   "metadata": {},
   "outputs": [
    {
     "data": {
      "image/png": "[encoded data removed]",
      "text/plain": [
       "<Figure size 432x288 with 1 Axes>"
      ]
     },
     "metadata": {
      "needs_background": "light"
     },
     "output_type": "display_data"
    }
   ],
   "source": [
    "# shift train predictions for plotting\n",
    "look_back=4\n",
    "trainPredictPlot = np.empty_like(df)\n",
    "trainPredictPlot[:, :] = np.nan\n",
    "trainPredictPlot[look_back:len(train_predict)+look_back, :] = train_predict\n",
    "# shift test predictions for plotting\n",
    "testPredictPlot = np.empty_like(df)\n",
    "testPredictPlot[:, :] = np.nan\n",
    "testPredictPlot[len(train_predict)+(look_back*2)+1:len(df)-1, :] = test_predict\n",
    "# plot baseline and predictions\n",
    "plt.plot(scaler.inverse_transform(df))\n",
    "\n",
    "plt.plot(trainPredictPlot)\n",
    "plt.plot(testPredictPlot)\n",
    "plt.show()"
   ]
  }
 ],
 "metadata": {
  "kernelspec": {
   "display_name": "Python 3",
   "language": "python",
   "name": "python3"
  },
  "language_info": {
   "codemirror_mode": {
    "name": "ipython",
    "version": 3
   },
   "file_extension": ".py",
   "mimetype": "text/x-python",
   "name": "python",
   "nbconvert_exporter": "python",
   "pygments_lexer": "ipython3",
   "version": "3.7.6"
  }
 },
 "nbformat": 4,
 "nbformat_minor": 4
}
