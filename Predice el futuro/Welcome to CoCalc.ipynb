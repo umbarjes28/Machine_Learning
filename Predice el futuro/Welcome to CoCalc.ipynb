{
 "cells": [
  {
   "cell_type": "markdown",
   "metadata": {
    "collapsed": false
   },
   "source": [
    "# Predice el futuro"
   ]
  },
  {
   "cell_type": "markdown",
   "metadata": {
    "collapsed": false
   },
   "source": [
    "###### Importing all required libaries.\n",
    "<blockquote>numpy is the fundamental package for scientific computing with Python.</blockquote>\n",
    "<blockquote>pandas it provides ready to use high-performance data structures and data analysis tools</blockquote>\n",
    "<blockquote>ARIMA it provides the capability to fit an ARIMA model.</blockquote>"
   ]
  },
  {
   "cell_type": "code",
   "execution_count": 26,
   "metadata": {
    "collapsed": false
   },
   "outputs": [
   ],
   "source": [
    "import pandas as pd\n",
    "import numpy as np\n",
    "from statsmodels.tsa.arima_model import ARIMA"
   ]
  },
  {
   "cell_type": "markdown",
   "metadata": {
    "collapsed": false
   },
   "source": [
    "Load the data by running the following code."
   ]
  },
  {
   "cell_type": "code",
   "execution_count": 27,
   "metadata": {
    "collapsed": false
   },
   "outputs": [
   ],
   "source": [
    "data_1 = pd.read_csv('train_csv.csv')\n",
    "avg= data_1['feature']\n",
    "avg=list(avg)"
   ]
  },
  {
   "cell_type": "markdown",
   "metadata": {
    "collapsed": false
   },
   "source": [
    "below creating one-dimensional ndarray of feature values and time with given format."
   ]
  },
  {
   "cell_type": "code",
   "execution_count": 28,
   "metadata": {
    "collapsed": false
   },
   "outputs": [
   ],
   "source": [
    "res = pd.Series(avg, index=pd.to_datetime(data_1['time'], format='%Y-%m-%d %H:%M:%S'))"
   ]
  },
  {
   "cell_type": "markdown",
   "metadata": {
    "collapsed": false
   },
   "source": [
    "Natural log of the column is computed using log() function and stored in a new column namely “ts”  as shown below. In second line of code taking difference between ts and  ts.shift(). here shift() - Shift index by desired number of periods with an optional time freq. Below code giving differences."
   ]
  },
  {
   "cell_type": "code",
   "execution_count": 29,
   "metadata": {
    "collapsed": false
   },
   "outputs": [
   ],
   "source": [
    "ts=np.log(res)\n",
    "ts_diff = ts - ts.shift()"
   ]
  },
  {
   "cell_type": "markdown",
   "metadata": {
    "collapsed": false
   },
   "source": [
    "below used dropna() function to remove missing values with inplace attribute true. it is do operation inplace and return none."
   ]
  },
  {
   "cell_type": "code",
   "execution_count": 30,
   "metadata": {
    "collapsed": false
   },
   "outputs": [
   ],
   "source": [
    "ts_diff.dropna(inplace=True)"
   ]
  },
  {
   "cell_type": "markdown",
   "metadata": {
    "collapsed": false
   },
   "source": [
    "Here below fit an ARIMA model to the time column in train dataset and review the residual errors.\n",
    "\n",
    "First, I have fit an ARIMA(2,1,2) model. This sets the lag value to 2 for autoregression, uses a difference order of 1 to make the time series stationary, and uses a moving average model of 2.\n",
    "\n",
    "When fitting the model, a lot of debug information is provided about the fit of the linear regression model. We can turn this off by setting the disp argument to -1."
   ]
  },
  {
   "cell_type": "code",
   "execution_count": 31,
   "metadata": {
    "collapsed": false
   },
   "outputs": [
    {
     "name": "stderr",
     "output_type": "stream",
     "text": [
      "/usr/local/lib/python3.6/dist-packages/statsmodels/tsa/base/tsa_model.py:162: ValueWarning: No frequency information was provided, so inferred frequency 10S will be used.\n",
      "  % freq, ValueWarning)\n",
      "/usr/local/lib/python3.6/dist-packages/statsmodels/tsa/base/tsa_model.py:162: ValueWarning: No frequency information was provided, so inferred frequency 10S will be used.\n",
      "  % freq, ValueWarning)\n"
     ]
    }
   ],
   "source": [
    "r = ARIMA(ts,(2,1,2))\n",
    "r = r.fit(disp=-1)"
   ]
  },
  {
   "cell_type": "markdown",
   "metadata": {
    "collapsed": false
   },
   "source": [
    "This can be passed to the predict() function on our model in order to predict the class values for each instance in the array with start and end attributes. And The date_range() function is used to get a fixed frequency DatetimeIndex with frequency 10 seconds beacuse of in test dataset it is incremented by 10 seconds."
   ]
  },
  {
   "cell_type": "code",
   "execution_count": 32,
   "metadata": {
    "collapsed": false
   },
   "outputs": [
   ],
   "source": [
    "pred = r.predict(start='2019-03-19 00:13:20',end='2019-03-19 00:19:50')\n",
    "dates = pd.date_range('2019-03-19 00:13:20','2019-03-19 00:19:50',freq='10S')"
   ]
  },
  {
   "cell_type": "markdown",
   "metadata": {
    "collapsed": false
   },
   "source": [
    "Below here again used series function and it is returning array object. \n",
    "\n",
    "The cumsum function returning Series of the same size containing the cumulative sum.\n",
    "\n",
    "Again used series function to get array object in line 3. After that using add function we can doing addition of dataframe with fill_value attribute 0.\n",
    "\n",
    "Then we are calculating exponential of all the elements in the input array. It shown in below."
   ]
  },
  {
   "cell_type": "code",
   "execution_count": 33,
   "metadata": {
    "collapsed": false
   },
   "outputs": [
    {
     "name": "stdout",
     "output_type": "stream",
     "text": [
      "2019-03-19 00:00:00    237.970000\n",
      "2019-03-19 00:00:10     57.930000\n",
      "2019-03-19 00:00:20     90.530000\n",
      "2019-03-19 00:00:30    260.750000\n",
      "2019-03-19 00:00:40     49.700000\n",
      "                          ...    \n",
      "2019-03-19 00:19:10      1.768428\n",
      "2019-03-19 00:19:20      1.782928\n",
      "2019-03-19 00:19:30      1.797543\n",
      "2019-03-19 00:19:40      1.812274\n",
      "2019-03-19 00:19:50      1.827123\n",
      "Length: 120, dtype: float64\n"
     ]
    }
   ],
   "source": [
    "predictions_ARIMA_diff = pd.Series(pred, copy=True)\n",
    "predictions_ARIMA_diff_cumsum = predictions_ARIMA_diff.cumsum()\n",
    "predictions_ARIMA_log = pd.Series(ts[:])\n",
    "predictions_ARIMA_log = predictions_ARIMA_log.add(predictions_ARIMA_diff_cumsum,fill_value=0)\n",
    "predictions_ARIMA = np.exp(predictions_ARIMA_log)\n",
    "print(predictions_ARIMA)"
   ]
  },
  {
   "cell_type": "markdown",
   "metadata": {
    "collapsed": false
   },
   "source": [
    "The final_pedict dictionary is created to write id and feature value from above arrays. For feature value here I have adding prediction value with mean of difference between perdicted values of seconds which are in predictions_ARIMA.head()."
   ]
  },
  {
   "cell_type": "code",
   "execution_count": 34,
   "metadata": {
    "collapsed": false
   },
   "outputs": [
   ],
   "source": [
    "# create dict for writing output\n",
    "final_pedict ={'id': [], 'feature': []}\n",
    "k=0\n",
    "number = []\n",
    "feature = []\n",
    "for i in range(80, 120):\n",
    "    if k == 5:\n",
    "        k=0\n",
    "    if k  < 5:\n",
    "        number.append(i)\n",
    "        feature.append(predictions_ARIMA_log[i]+predictions_ARIMA.head()[k])\n",
    "        k = k + 1\n",
    "\n",
    "final_pedict = {'id': number, 'feature': feature}\n",
    "df = pd.DataFrame(final_pedict)\n"
   ]
  },
  {
   "cell_type": "markdown",
   "metadata": {
    "collapsed": false
   },
   "source": [
    "Below In df object we retured id and perdicted feature values. And using this object we are writing csv file with file name 'Solution.csv' with no indexing."
   ]
  },
  {
   "cell_type": "code",
   "execution_count": 35,
   "metadata": {
    "collapsed": false
   },
   "outputs": [
    {
     "name": "stdout",
     "output_type": "stream",
     "text": [
      "Created Successfully\n"
     ]
    }
   ],
   "source": [
    "df.to_csv('Solution.csv',index=False)\n",
    "print(\"Created Successfully\")"
   ]
  }
 ],
 "metadata": {
  "kernelspec": {
   "display_name": "Python 3 (system-wide)",
   "language": "python",
   "metadata": {
    "cocalc": {
     "description": "Python 3 programming language",
     "priority": 100,
     "url": "https://www.python.org/"
    }
   },
   "name": "python3"
  },
  "language_info": {
   "codemirror_mode": {
    "name": "ipython",
    "version": 3
   },
   "file_extension": ".py",
   "mimetype": "text/x-python",
   "name": "python",
   "nbconvert_exporter": "python",
   "pygments_lexer": "ipython3",
   "version": "3.6.9"
  }
 },
 "nbformat": 4,
 "nbformat_minor": 4
}